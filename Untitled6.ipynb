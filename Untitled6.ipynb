{
  "nbformat": 4,
  "nbformat_minor": 0,
  "metadata": {
    "colab": {
      "provenance": [],
      "authorship_tag": "ABX9TyMaN/DA5O4p1Wx6PJMfPEz0",
      "include_colab_link": true
    },
    "kernelspec": {
      "name": "python3",
      "display_name": "Python 3"
    },
    "language_info": {
      "name": "python"
    }
  },
  "cells": [
    {
      "cell_type": "markdown",
      "metadata": {
        "id": "view-in-github",
        "colab_type": "text"
      },
      "source": [
        "<a href=\"https://colab.research.google.com/github/AntoVm1234/FunProgMecRepos202310/blob/main/Untitled6.ipynb\" target=\"_parent\"><img src=\"https://colab.research.google.com/assets/colab-badge.svg\" alt=\"Open In Colab\"/></a>"
      ]
    },
    {
      "cell_type": "code",
      "execution_count": 36,
      "metadata": {
        "colab": {
          "base_uri": "https://localhost:8080/"
        },
        "id": "68g75nCBcI3y",
        "outputId": "09e5d02c-922b-4924-9e2a-788f795a6d04"
      },
      "outputs": [
        {
          "output_type": "stream",
          "name": "stdout",
          "text": [
            "mi mama le pega a jesus en monteriaantolin\n"
          ]
        }
      ],
      "source": [
        "def say_frase(nombre, city):\n",
        "  print(\"mi mama le pega a \" + \"jesus\" + \" en monteria\")\n",
        "say_frase = (\"mi mama le pega a \" + \"jesus\"  \" en monteria\")\n",
        "if \"jesus\" in say_frase:\n",
        "  print(say_frase + \"antolin\")\n",
        "else:\n",
        "  print(\"no encontre a jesusin\")\n",
        "\n",
        "\n"
      ]
    },
    {
      "cell_type": "code",
      "source": [],
      "metadata": {
        "id": "j4Y8pGTReWLm"
      },
      "execution_count": null,
      "outputs": []
    }
  ]
}