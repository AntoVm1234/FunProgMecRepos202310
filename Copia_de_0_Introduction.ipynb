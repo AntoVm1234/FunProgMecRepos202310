{
  "cells": [
    {
      "cell_type": "markdown",
      "metadata": {
        "id": "view-in-github",
        "colab_type": "text"
      },
      "source": [
        "<a href=\"https://colab.research.google.com/github/AntoVm1234/FunProgMecRepos202310/blob/main/Copia_de_0_Introduction.ipynb\" target=\"_parent\"><img src=\"https://colab.research.google.com/assets/colab-badge.svg\" alt=\"Open In Colab\"/></a>"
      ]
    },
    {
      "cell_type": "markdown",
      "id": "6bb7deb9",
      "metadata": {
        "id": "6bb7deb9"
      },
      "source": [
        "# Introducción\n",
        "\n",
        "## Primeros Pasos\n",
        "\n",
        "Este es un párrafo en Markdown. Se escribe normalito.\n",
        "\n",
        "Algunos estilos son: _Esto es cursiva_, **Esto es negrita**\n",
        "\n",
        "Si quiero agregar código en línea, utilizo el backtip: `variable_1`, `variable_2`\n",
        "\n",
        "Y LaTeX para ecuaciones: $x, y, z$\n",
        "\n",
        "$$ y = mx + b $$\n",
        "\n",
        "## Listas Desordenadas\n",
        "\n",
        "Ingredientes:\n",
        "- Harina\n",
        "- Huevo\n",
        "- Leche\n",
        "- Azúcar\n",
        "- Mantequilla\n",
        "\n",
        "\n",
        "## Listas Ordenadas\n",
        "\n",
        "Receta:\n",
        "\n",
        "1. Mezcle los ingredientes secos (harina, azúcar)\n",
        "2. Agregue la leche y el huevo\n",
        "3. Mezcle con la mantequilla\n",
        "\n",
        "### Texto \"Estilizado\" o para frases:\n",
        "\n",
        "> Esta es una información importante"
      ]
    },
    {
      "cell_type": "markdown",
      "source": [
        "##comentario"
      ],
      "metadata": {
        "id": "x1332y-ytp4w"
      },
      "id": "x1332y-ytp4w"
    },
    {
      "cell_type": "markdown",
      "source": [
        "## Variables"
      ],
      "metadata": {
        "id": "1bCexYujvZag"
      },
      "id": "1bCexYujvZag"
    },
    {
      "cell_type": "code",
      "execution_count": null,
      "id": "f5e3c6e7",
      "metadata": {
        "id": "f5e3c6e7",
        "outputId": "8b653e8d-fdf9-4513-9bc2-1aca0c5843cb"
      },
      "outputs": [
        {
          "name": "stdout",
          "output_type": "stream",
          "text": [
            "Bienvenidos a Python\n",
            "Hola Mikheltodd es un gusto conocerte.\n"
          ]
        }
      ],
      "source": [
        "print(\"Bienvenidos a Python\")\n",
        "name = \"Mikheltodd\"\n",
        "print(\"Hola\", name, \"es un gusto conocerte.\")"
      ]
    },
    {
      "cell_type": "code",
      "source": [
        "name=\"Antolin\"\n",
        "print(name)\n"
      ],
      "metadata": {
        "colab": {
          "base_uri": "https://localhost:8080/"
        },
        "id": "83SBLpsOvirH",
        "outputId": "e0ba9a8d-8bf6-40d7-cf32-452120820a67"
      },
      "id": "83SBLpsOvirH",
      "execution_count": 5,
      "outputs": [
        {
          "output_type": "stream",
          "name": "stdout",
          "text": [
            "Antolin\n"
          ]
        }
      ]
    },
    {
      "cell_type": "code",
      "source": [
        "# Este es un comentario"
      ],
      "metadata": {
        "id": "r9v_j8w-uLkX"
      },
      "id": "r9v_j8w-uLkX",
      "execution_count": 1,
      "outputs": []
    },
    {
      "cell_type": "code",
      "source": [
        "age=31\n",
        "height=1.75"
      ],
      "metadata": {
        "id": "0mUKwOJ7yJ5o"
      },
      "id": "0mUKwOJ7yJ5o",
      "execution_count": 6,
      "outputs": []
    },
    {
      "cell_type": "code",
      "execution_count": 9,
      "id": "f66c5d54",
      "metadata": {
        "id": "f66c5d54",
        "colab": {
          "base_uri": "https://localhost:8080/"
        },
        "outputId": "fe2c8011-d075-43cb-bee9-f44cb2b2097e"
      },
      "outputs": [
        {
          "output_type": "stream",
          "name": "stdout",
          "text": [
            "<class 'int'>\n",
            "<class 'float'>\n"
          ]
        }
      ],
      "source": [
        "print(type(age))\n",
        "print(type(height))"
      ]
    },
    {
      "cell_type": "code",
      "source": [
        "a= 5\n",
        "b= 2\n",
        "c= a + b\n",
        "d= a - b\n",
        "e= a * b\n",
        "f= a / b\n",
        "print(c)\n",
        "print(d)\n",
        "print(e)\n",
        "print(f)\n"
      ],
      "metadata": {
        "colab": {
          "base_uri": "https://localhost:8080/"
        },
        "id": "ntO0-VqryyGi",
        "outputId": "8bd41749-0976-4cad-a951-00b4951a2cd1"
      },
      "id": "ntO0-VqryyGi",
      "execution_count": 12,
      "outputs": [
        {
          "output_type": "stream",
          "name": "stdout",
          "text": [
            "7\n",
            "3\n",
            "10\n",
            "2.5\n"
          ]
        }
      ]
    },
    {
      "cell_type": "code",
      "source": [
        "a= 5\n",
        "b= 3.5\n",
        "c= 2  \n",
        "d= 2*a + 3*b - 5*c\n",
        "print(d)"
      ],
      "metadata": {
        "colab": {
          "base_uri": "https://localhost:8080/"
        },
        "id": "p6FCuiVg0Zka",
        "outputId": "6fff142e-bfaf-47be-ae9f-8607d852fef2"
      },
      "id": "p6FCuiVg0Zka",
      "execution_count": 15,
      "outputs": [
        {
          "output_type": "stream",
          "name": "stdout",
          "text": [
            "10.5\n"
          ]
        }
      ]
    },
    {
      "cell_type": "code",
      "source": [
        "# Calculo del modulo\n",
        "n= 5\n",
        "x = n % 2\n",
        "print(x)"
      ],
      "metadata": {
        "colab": {
          "base_uri": "https://localhost:8080/"
        },
        "id": "U4RPjSJ91R25",
        "outputId": "462966e0-860a-4cb0-e7a6-9a5c6ae75cab"
      },
      "id": "U4RPjSJ91R25",
      "execution_count": 19,
      "outputs": [
        {
          "output_type": "stream",
          "name": "stdout",
          "text": [
            "1\n"
          ]
        }
      ]
    },
    {
      "cell_type": "code",
      "source": [
        "greatings = \"good morning\"\n",
        "name = \"Antolin vpm\"\n",
        "age = 16\n",
        "message = greatings + \" my name is \" + name + \" and i am \" + str(age) \n",
        "print(message)"
      ],
      "metadata": {
        "colab": {
          "base_uri": "https://localhost:8080/"
        },
        "id": "1XAeCT2Y4fzp",
        "outputId": "a3f2f1c0-33cd-4a3e-dcee-4e2d6c64c3cc"
      },
      "id": "1XAeCT2Y4fzp",
      "execution_count": 21,
      "outputs": [
        {
          "output_type": "stream",
          "name": "stdout",
          "text": [
            "good morning my name is Antolin vpm and i am 16\n"
          ]
        }
      ]
    },
    {
      "cell_type": "code",
      "source": [
        "message = \"\"\"\n",
        "Este es un parrafo.\n",
        "que tiene muchas lineas.\n",
        "y si tiene alguna rima.\n",
        "que genial.\n",
        "\"\"\"\n",
        "print(message)"
      ],
      "metadata": {
        "colab": {
          "base_uri": "https://localhost:8080/"
        },
        "id": "WobiZ9_R6pNy",
        "outputId": "a9a3c44c-00fd-4aa4-f599-af66082d008c"
      },
      "id": "WobiZ9_R6pNy",
      "execution_count": 22,
      "outputs": [
        {
          "output_type": "stream",
          "name": "stdout",
          "text": [
            "\n",
            "Este es un parrafo.\n",
            "que tiene muchas lineas.\n",
            "y si tiene alguna rima.\n",
            "que genial.\n",
            "\n"
          ]
        }
      ]
    },
    {
      "cell_type": "code",
      "source": [],
      "metadata": {
        "id": "tvfgzo7O8ijZ"
      },
      "id": "tvfgzo7O8ijZ",
      "execution_count": null,
      "outputs": []
    }
  ],
  "metadata": {
    "kernelspec": {
      "display_name": "Python 3 (ipykernel)",
      "language": "python",
      "name": "python3"
    },
    "language_info": {
      "codemirror_mode": {
        "name": "ipython",
        "version": 3
      },
      "file_extension": ".py",
      "mimetype": "text/x-python",
      "name": "python",
      "nbconvert_exporter": "python",
      "pygments_lexer": "ipython3",
      "version": "3.10.6"
    },
    "colab": {
      "provenance": [],
      "include_colab_link": true
    }
  },
  "nbformat": 4,
  "nbformat_minor": 5
}