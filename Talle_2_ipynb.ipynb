{
  "nbformat": 4,
  "nbformat_minor": 0,
  "metadata": {
    "colab": {
      "provenance": [],
      "authorship_tag": "ABX9TyPIyBx2fGos3P2qfWhTuZPK",
      "include_colab_link": true
    },
    "kernelspec": {
      "name": "python3",
      "display_name": "Python 3"
    },
    "language_info": {
      "name": "python"
    }
  },
  "cells": [
    {
      "cell_type": "markdown",
      "metadata": {
        "id": "view-in-github",
        "colab_type": "text"
      },
      "source": [
        "<a href=\"https://colab.research.google.com/github/AntoVm1234/FunProgMecRepos202310/blob/main/Talle_2_ipynb.ipynb\" target=\"_parent\"><img src=\"https://colab.research.google.com/assets/colab-badge.svg\" alt=\"Open In Colab\"/></a>"
      ]
    },
    {
      "cell_type": "code",
      "execution_count": null,
      "metadata": {
        "id": "Hzb5hCcIwoM8"
      },
      "outputs": [],
      "source": []
    },
    {
      "cell_type": "markdown",
      "source": [
        "# SOLUCION TALLER 2#\n",
        "## Fundamentos de programacion - Ingeneria Mecanica UPB 202310##\n",
        "\n",
        "*  Antolin De Jesus Vitola Montes\n",
        "*  000523062\n",
        "*  antolinvitolaupb.edu.co\n",
        "\n",
        "\n",
        "\n",
        "\n",
        "\n",
        "\n"
      ],
      "metadata": {
        "id": "s08HeZgMxVR7"
      }
    },
    {
      "cell_type": "markdown",
      "source": [
        "#Problema 1#\n",
        "## Calcular y mostrar la posicion de una particula que experiementa movimiento uniformemente acelerado##"
      ],
      "metadata": {
        "id": "rL87ZGDiz4ad"
      }
    },
    {
      "cell_type": "code",
      "source": [
        "#variables#\n",
        "X_0 = 5\n",
        "V_0 = 4\n",
        "a = -2\n",
        "t_1= 3\n",
        "\n",
        "X_1 = X_0 +  V_0 * t_1 + 1/2 * a * t_1 **2\n",
        "print(X_1 )\n",
        "\n",
        "t_2 = 10\n",
        "X_2 = X_0 + V_0 * t_2 + 1/2 * a * t_2  **2\n",
        "print(X_2)\n",
        "\n",
        "\n",
        "\n",
        "\n"
      ],
      "metadata": {
        "colab": {
          "base_uri": "https://localhost:8080/"
        },
        "id": "6AiGgMVP0JRN",
        "outputId": "4afee574-9334-41e0-c4b7-41ad504c90e3"
      },
      "execution_count": 2,
      "outputs": [
        {
          "output_type": "stream",
          "name": "stdout",
          "text": [
            "8.0\n",
            "-55.0\n"
          ]
        }
      ]
    },
    {
      "cell_type": "markdown",
      "source": [
        "#Problema 2#\n",
        "##Calcular y mostar la distancia entre dos puntos P1 y P2 ubicados en las coordenadas (X1, Y2) y (X2, Y2)"
      ],
      "metadata": {
        "id": "DRRHS3cA8Umc"
      }
    },
    {
      "cell_type": "code",
      "source": [
        "# distancia entre los puntos d_1#\n",
        "X1 = 1\n",
        "Y1 = 1\n",
        "X2 = -1\n",
        "Y2 = -1\n",
        "\n",
        "d_1 = (X2 - X1)**2 +  (Y2 - Y1)**2**0.5\n",
        "print(d_1)\n",
        "## distancia entre los puntos d_2 ##\n",
        "X1 = -2\n",
        "Y1 = 0\n",
        "X2 = 4\n",
        "Y2 = 5\n",
        "\n",
        "d_2 = (X2 - X1) **2 + (Y2 - Y1) **2 **0.5\n",
        "print(d_2)"
      ],
      "metadata": {
        "colab": {
          "base_uri": "https://localhost:8080/"
        },
        "id": "1C1NpF6i9KkF",
        "outputId": "bc441bcb-1620-418f-bb43-dd45cf0fff13"
      },
      "execution_count": 8,
      "outputs": [
        {
          "output_type": "stream",
          "name": "stdout",
          "text": [
            "(3.2903911346983388-2.568939189549123j)\n",
            "45.73851774233542\n"
          ]
        }
      ]
    },
    {
      "cell_type": "markdown",
      "source": [
        "#Problema 3#"
      ],
      "metadata": {
        "id": "330rygpMBpSv"
      }
    },
    {
      "cell_type": "code",
      "source": [
        "#Variables#\n",
        "a = -3\n",
        "b = 3\n",
        "c = 4\n",
        "d = 0\n",
        "\n",
        "a<=b\n",
        "b>c\n",
        "a-d>c\n",
        "\n",
        "\n"
      ],
      "metadata": {
        "colab": {
          "base_uri": "https://localhost:8080/"
        },
        "id": "Tbj1COczCDvw",
        "outputId": "fd67154e-8597-4547-ed3b-798fd0aea1ed"
      },
      "execution_count": 16,
      "outputs": [
        {
          "output_type": "execute_result",
          "data": {
            "text/plain": [
              "False"
            ]
          },
          "metadata": {},
          "execution_count": 16
        }
      ]
    },
    {
      "cell_type": "code",
      "source": [],
      "metadata": {
        "id": "MStRs18TE9y9"
      },
      "execution_count": null,
      "outputs": []
    }
  ]
}