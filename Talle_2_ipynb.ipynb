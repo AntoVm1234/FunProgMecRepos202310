{
  "nbformat": 4,
  "nbformat_minor": 0,
  "metadata": {
    "colab": {
      "provenance": [],
      "include_colab_link": true
    },
    "kernelspec": {
      "name": "python3",
      "display_name": "Python 3"
    },
    "language_info": {
      "name": "python"
    }
  },
  "cells": [
    {
      "cell_type": "markdown",
      "metadata": {
        "id": "view-in-github",
        "colab_type": "text"
      },
      "source": [
        "<a href=\"https://colab.research.google.com/github/AntoVm1234/FunProgMecRepos202310/blob/main/Talle_2_ipynb.ipynb\" target=\"_parent\"><img src=\"https://colab.research.google.com/assets/colab-badge.svg\" alt=\"Open In Colab\"/></a>"
      ]
    },
    {
      "cell_type": "code",
      "execution_count": null,
      "metadata": {
        "id": "Hzb5hCcIwoM8"
      },
      "outputs": [],
      "source": []
    },
    {
      "cell_type": "markdown",
      "source": [
        "# SOLUCION TALLER 2#\n",
        "## Fundamentos de programacion.\n",
        "###Ingeneria Mecanica UPB 202310###\n",
        "\n",
        "*  *Antolin De Jesus Vitola Montes*\n",
        "*  *000523062*\n",
        "*  *antolin.vitola@upb.edu.co*\n",
        "\n",
        "\n",
        "\n",
        "\n",
        "\n",
        "\n"
      ],
      "metadata": {
        "id": "s08HeZgMxVR7"
      }
    },
    {
      "cell_type": "markdown",
      "source": [
        "#Problema 1#\n",
        "*Calcular y mostrar la posicion de una particula que experimenta movimiento uniformemente acelerado.*"
      ],
      "metadata": {
        "id": "rL87ZGDiz4ad"
      }
    },
    {
      "cell_type": "code",
      "source": [
        "#variables para posicion de la particula tiempo X_1 y X_2#\n",
        "X_0= 5\n",
        "V_0= 4\n",
        "a= -2\n",
        "##Variable de tiempo para posicion de la particula tiempo X_1##\n",
        "t_1= 3\n",
        "###Variable de tiempo para posicion de la particula tiempo X_2###\n",
        "t_2= 10\n",
        "\n",
        "####POSICION X_1####\n",
        "X_1 = X_0 + V_0 * t_1 + 1/2 * a * t_1**2\n",
        "\n",
        "print(X_1)\n",
        "\n",
        "#####POSICION X_2#####\n",
        "\n",
        "X_2 = X_0 + V_0 * t_2 + 1/2 * a * t_2**2\n",
        "\n",
        "print(X_2)\n",
        "\n",
        "\n",
        "\n",
        "\n"
      ],
      "metadata": {
        "colab": {
          "base_uri": "https://localhost:8080/"
        },
        "id": "6AiGgMVP0JRN",
        "outputId": "d7143530-32d8-4f32-f8a1-0d0df892ebf6"
      },
      "execution_count": null,
      "outputs": [
        {
          "output_type": "stream",
          "name": "stdout",
          "text": [
            "8.0\n",
            "-55.0\n"
          ]
        }
      ]
    },
    {
      "cell_type": "markdown",
      "source": [
        "#Problema 2#\n",
        "*Calcular y mostar la distancia entre dos puntos P1 y P2 ubicados en las coordenadas (X1, Y2) y (X2, Y2).*"
      ],
      "metadata": {
        "id": "DRRHS3cA8Umc"
      }
    },
    {
      "cell_type": "code",
      "source": [
        "# distancia entre los puntos d_1#\n",
        "X1= 1\n",
        "Y1= 1\n",
        "X2= -1\n",
        "Y2= -1\n",
        "\n",
        "d_1 = ((X2 - X1)**2 + (Y2 - Y1)**2)**0.5\n",
        "print(d_1)\n",
        "## distancia entre los puntos d_2 ##\n",
        "X1 = -2\n",
        "Y1 = 0\n",
        "X2 = 4\n",
        "Y2 = 5\n",
        "\n",
        "d_2 = ((X2 - X1) **2 + (Y2 - Y1) **2)**0.5\n",
        "print(d_2)"
      ],
      "metadata": {
        "colab": {
          "base_uri": "https://localhost:8080/"
        },
        "id": "1C1NpF6i9KkF",
        "outputId": "ae1359d8-f5e0-445c-8402-e346feb0c74e"
      },
      "execution_count": 35,
      "outputs": [
        {
          "output_type": "stream",
          "name": "stdout",
          "text": [
            "2.8284271247461903\n",
            "7.810249675906654\n"
          ]
        }
      ]
    },
    {
      "cell_type": "markdown",
      "source": [
        "#Problema 3#\n",
        "*resolver operaciones logicas.*"
      ],
      "metadata": {
        "id": "330rygpMBpSv"
      }
    },
    {
      "cell_type": "code",
      "source": [
        "#Variables#\n",
        "a = -3\n",
        "b = 3\n",
        "c = 4\n",
        "d = 0\n",
        "\n",
        "##formulas de las variables##\n",
        "\n",
        "print(a<=b)\n",
        "print(b>c)\n",
        "print(a-d>c)\n",
        "print((a!=c)and (d>a))\n",
        "print((b<c) or (b>a))\n",
        "print(a!=d)\n",
        "print(a-d>c)\n",
        "print(d+c>= a*b)\n",
        "print((a*c== 10) or (b*a<3))\n",
        "print(b * c + d > d * 5)\n",
        "print(2*a== -d*4)"
      ],
      "metadata": {
        "colab": {
          "base_uri": "https://localhost:8080/"
        },
        "id": "Tbj1COczCDvw",
        "outputId": "2f5a7e53-2b2f-4d28-8748-2d55d256768d"
      },
      "execution_count": 41,
      "outputs": [
        {
          "output_type": "stream",
          "name": "stdout",
          "text": [
            "True\n",
            "False\n",
            "False\n",
            "True\n",
            "True\n",
            "True\n",
            "False\n",
            "True\n",
            "True\n",
            "True\n",
            "False\n"
          ]
        }
      ]
    },
    {
      "cell_type": "code",
      "source": [],
      "metadata": {
        "id": "MStRs18TE9y9"
      },
      "execution_count": null,
      "outputs": []
    }
  ]
}